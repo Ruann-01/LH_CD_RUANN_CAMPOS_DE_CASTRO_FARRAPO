{
 "cells": [
  {
   "cell_type": "markdown",
   "metadata": {},
   "source": [
    "## Modelagem Preditiva IMDB\n"
   ]
  },
  {
   "cell_type": "markdown",
   "metadata": {},
   "source": [
    "## Construção do modelo para previsão da nota IMDb\n",
    "Segue abaixo todo o passo a passo de como fiz construção da minha modelagem preditiva para a previsão da nota IMDb, com todas as resoluções, análises e explicações necessárias."
   ]
  },
  {
   "cell_type": "markdown",
   "metadata": {},
   "source": [
    "### Importando as Bibliotecas"
   ]
  },
  {
   "cell_type": "code",
   "execution_count": 14,
   "metadata": {},
   "outputs": [],
   "source": [
    "import pandas as pd\n",
    "import numpy as np\n",
    "from sklearn.linear_model import LinearRegression\n",
    "from sklearn.tree import DecisionTreeRegressor\n",
    "from sklearn.preprocessing import StandardScaler, OneHotEncoder\n",
    "from sklearn.ensemble import RandomForestRegressor, GradientBoostingRegressor, VotingRegressor\n",
    "from sklearn.neural_network import MLPRegressor\n",
    "from sklearn.svm import SVR\n",
    "from sklearn.model_selection import RandomizedSearchCV, train_test_split\n",
    "from sklearn.metrics import mean_absolute_error, mean_squared_error, r2_score\n",
    "from sklearn.pipeline import Pipeline\n",
    "from sklearn.preprocessing import StandardScaler\n",
    "from sklearn.compose import ColumnTransformer\n",
    "from sklearn.impute import SimpleImputer\n",
    "import warnings\n",
    "warnings.filterwarnings(\"ignore\")\n",
    "import joblib"
   ]
  },
  {
   "cell_type": "markdown",
   "metadata": {},
   "source": [
    "### Carregando e Apresentando o Dataset"
   ]
  },
  {
   "cell_type": "code",
   "execution_count": 72,
   "metadata": {},
   "outputs": [
    {
     "data": {
      "text/html": [
       "<div>\n",
       "<style scoped>\n",
       "    .dataframe tbody tr th:only-of-type {\n",
       "        vertical-align: middle;\n",
       "    }\n",
       "\n",
       "    .dataframe tbody tr th {\n",
       "        vertical-align: top;\n",
       "    }\n",
       "\n",
       "    .dataframe thead th {\n",
       "        text-align: right;\n",
       "    }\n",
       "</style>\n",
       "<table border=\"1\" class=\"dataframe\">\n",
       "  <thead>\n",
       "    <tr style=\"text-align: right;\">\n",
       "      <th></th>\n",
       "      <th>Series_Title</th>\n",
       "      <th>Released_Year</th>\n",
       "      <th>Certificate</th>\n",
       "      <th>Runtime</th>\n",
       "      <th>Genre</th>\n",
       "      <th>IMDB_Rating</th>\n",
       "      <th>Overview</th>\n",
       "      <th>Meta_score</th>\n",
       "      <th>Director</th>\n",
       "      <th>Star1</th>\n",
       "      <th>Star2</th>\n",
       "      <th>Star3</th>\n",
       "      <th>Star4</th>\n",
       "      <th>No_of_Votes</th>\n",
       "      <th>Gross</th>\n",
       "    </tr>\n",
       "  </thead>\n",
       "  <tbody>\n",
       "    <tr>\n",
       "      <th>1</th>\n",
       "      <td>The Godfather</td>\n",
       "      <td>1972</td>\n",
       "      <td>A</td>\n",
       "      <td>175 min</td>\n",
       "      <td>Crime, Drama</td>\n",
       "      <td>9.2</td>\n",
       "      <td>An organized crime dynasty's aging patriarch t...</td>\n",
       "      <td>100.0</td>\n",
       "      <td>Francis Ford Coppola</td>\n",
       "      <td>Marlon Brando</td>\n",
       "      <td>Al Pacino</td>\n",
       "      <td>James Caan</td>\n",
       "      <td>Diane Keaton</td>\n",
       "      <td>1620367</td>\n",
       "      <td>134,966,411</td>\n",
       "    </tr>\n",
       "    <tr>\n",
       "      <th>2</th>\n",
       "      <td>The Dark Knight</td>\n",
       "      <td>2008</td>\n",
       "      <td>UA</td>\n",
       "      <td>152 min</td>\n",
       "      <td>Action, Crime, Drama</td>\n",
       "      <td>9.0</td>\n",
       "      <td>When the menace known as the Joker wreaks havo...</td>\n",
       "      <td>84.0</td>\n",
       "      <td>Christopher Nolan</td>\n",
       "      <td>Christian Bale</td>\n",
       "      <td>Heath Ledger</td>\n",
       "      <td>Aaron Eckhart</td>\n",
       "      <td>Michael Caine</td>\n",
       "      <td>2303232</td>\n",
       "      <td>534,858,444</td>\n",
       "    </tr>\n",
       "    <tr>\n",
       "      <th>3</th>\n",
       "      <td>The Godfather: Part II</td>\n",
       "      <td>1974</td>\n",
       "      <td>A</td>\n",
       "      <td>202 min</td>\n",
       "      <td>Crime, Drama</td>\n",
       "      <td>9.0</td>\n",
       "      <td>The early life and career of Vito Corleone in ...</td>\n",
       "      <td>90.0</td>\n",
       "      <td>Francis Ford Coppola</td>\n",
       "      <td>Al Pacino</td>\n",
       "      <td>Robert De Niro</td>\n",
       "      <td>Robert Duvall</td>\n",
       "      <td>Diane Keaton</td>\n",
       "      <td>1129952</td>\n",
       "      <td>57,300,000</td>\n",
       "    </tr>\n",
       "    <tr>\n",
       "      <th>4</th>\n",
       "      <td>12 Angry Men</td>\n",
       "      <td>1957</td>\n",
       "      <td>U</td>\n",
       "      <td>96 min</td>\n",
       "      <td>Crime, Drama</td>\n",
       "      <td>9.0</td>\n",
       "      <td>A jury holdout attempts to prevent a miscarria...</td>\n",
       "      <td>96.0</td>\n",
       "      <td>Sidney Lumet</td>\n",
       "      <td>Henry Fonda</td>\n",
       "      <td>Lee J. Cobb</td>\n",
       "      <td>Martin Balsam</td>\n",
       "      <td>John Fiedler</td>\n",
       "      <td>689845</td>\n",
       "      <td>4,360,000</td>\n",
       "    </tr>\n",
       "    <tr>\n",
       "      <th>5</th>\n",
       "      <td>The Lord of the Rings: The Return of the King</td>\n",
       "      <td>2003</td>\n",
       "      <td>U</td>\n",
       "      <td>201 min</td>\n",
       "      <td>Action, Adventure, Drama</td>\n",
       "      <td>8.9</td>\n",
       "      <td>Gandalf and Aragorn lead the World of Men agai...</td>\n",
       "      <td>94.0</td>\n",
       "      <td>Peter Jackson</td>\n",
       "      <td>Elijah Wood</td>\n",
       "      <td>Viggo Mortensen</td>\n",
       "      <td>Ian McKellen</td>\n",
       "      <td>Orlando Bloom</td>\n",
       "      <td>1642758</td>\n",
       "      <td>377,845,905</td>\n",
       "    </tr>\n",
       "  </tbody>\n",
       "</table>\n",
       "</div>"
      ],
      "text/plain": [
       "                                    Series_Title Released_Year Certificate  \\\n",
       "1                                  The Godfather          1972           A   \n",
       "2                                The Dark Knight          2008          UA   \n",
       "3                         The Godfather: Part II          1974           A   \n",
       "4                                   12 Angry Men          1957           U   \n",
       "5  The Lord of the Rings: The Return of the King          2003           U   \n",
       "\n",
       "   Runtime                     Genre  IMDB_Rating  \\\n",
       "1  175 min              Crime, Drama          9.2   \n",
       "2  152 min      Action, Crime, Drama          9.0   \n",
       "3  202 min              Crime, Drama          9.0   \n",
       "4   96 min              Crime, Drama          9.0   \n",
       "5  201 min  Action, Adventure, Drama          8.9   \n",
       "\n",
       "                                            Overview  Meta_score  \\\n",
       "1  An organized crime dynasty's aging patriarch t...       100.0   \n",
       "2  When the menace known as the Joker wreaks havo...        84.0   \n",
       "3  The early life and career of Vito Corleone in ...        90.0   \n",
       "4  A jury holdout attempts to prevent a miscarria...        96.0   \n",
       "5  Gandalf and Aragorn lead the World of Men agai...        94.0   \n",
       "\n",
       "               Director           Star1            Star2          Star3  \\\n",
       "1  Francis Ford Coppola   Marlon Brando        Al Pacino     James Caan   \n",
       "2     Christopher Nolan  Christian Bale     Heath Ledger  Aaron Eckhart   \n",
       "3  Francis Ford Coppola       Al Pacino   Robert De Niro  Robert Duvall   \n",
       "4          Sidney Lumet     Henry Fonda      Lee J. Cobb  Martin Balsam   \n",
       "5         Peter Jackson     Elijah Wood  Viggo Mortensen   Ian McKellen   \n",
       "\n",
       "           Star4  No_of_Votes        Gross  \n",
       "1   Diane Keaton      1620367  134,966,411  \n",
       "2  Michael Caine      2303232  534,858,444  \n",
       "3   Diane Keaton      1129952   57,300,000  \n",
       "4   John Fiedler       689845    4,360,000  \n",
       "5  Orlando Bloom      1642758  377,845,905  "
      ]
     },
     "execution_count": 72,
     "metadata": {},
     "output_type": "execute_result"
    }
   ],
   "source": [
    "# Carregar o dataset\n",
    "df = pd.read_csv('desafio_indicium_imdb.csv', index_col=0)\n",
    "\n",
    "# Mostrar as primeiras linhas do dataset\n",
    "df.head()"
   ]
  },
  {
   "cell_type": "markdown",
   "metadata": {},
   "source": [
    "### Divisão dos Dados em Conjunto de Treinamento e Teste\n",
    "\n",
    "Primeiro, separo as características (features) da variável alvo (target). Em seguida, faço a divisão dos dados em conjuntos de treino e teste"
   ]
  },
  {
   "cell_type": "code",
   "execution_count": 74,
   "metadata": {},
   "outputs": [],
   "source": [
    "# Separar as features e o target\n",
    "X = df.drop('IMDB_Rating', axis=1)\n",
    "y = df['IMDB_Rating']\n",
    "\n",
    "# Dividir os dados em treino e teste\n",
    "X_train, X_test, y_train, y_test = train_test_split(X, y, test_size=0.2, random_state=42)\n"
   ]
  },
  {
   "cell_type": "markdown",
   "metadata": {},
   "source": [
    "### Pré-processamento e Tratamento dos Dados\n",
    "Com todo o conhecimento que já possuo dos dados após ter feito toda a análise exploratória, faço os passos de pré-processamento e tratamento dos dados. Em seguida, defino transformadores específicos para cada tipo de característica para garantir uma predição mais robusta dos dados."
   ]
  },
  {
   "cell_type": "code",
   "execution_count": 77,
   "metadata": {},
   "outputs": [],
   "source": [
    "# Identificar características numéricas e categóricas no conjunto de dados X\n",
    "numeric_features = X.select_dtypes(include=['int64', 'float64']).columns\n",
    "categorical_features = X.select_dtypes(include=['object']).columns\n",
    "\n",
    "# Definir transformadores para características numéricas e categóricas\n",
    "numeric_transformer = Pipeline(steps=[\n",
    "    ('imputer', SimpleImputer(strategy='mean')),  # Preencher valores ausentes com a média\n",
    "    ('normalização', StandardScaler())])          # Normalizar os valores numéricos (padronização)\n",
    "\n",
    "categorical_transformer = Pipeline(steps=[\n",
    "    ('imputer', SimpleImputer(strategy='most_frequent')),  # Preencher valores ausentes com o valor mais frequente\n",
    "    ('onehot', OneHotEncoder(handle_unknown='ignore'))])   # Codificar variáveis categóricas usando one-hot encoding\n",
    "\n",
    "# Combinar transformadores em um pré-processador de colunas\n",
    "preprocessor = ColumnTransformer(\n",
    "    transformers=[\n",
    "        ('numérica', numeric_transformer, numeric_features),     # Aplicar transformação numérica às características numéricas\n",
    "        ('categórica', categorical_transformer, categorical_features)])  # Aplicar transformação categórica às características categóricas"
   ]
  },
  {
   "cell_type": "markdown",
   "metadata": {},
   "source": [
    "### Definição e Otimização dos Modelos de Regressão\n",
    "Defino os modelos base de regressão e as distribuições de parâmetros para otimização de hiperparâmetros. Utilizo o RandomizedSearchCV para encontrar os melhores estimadores."
   ]
  },
  {
   "cell_type": "code",
   "execution_count": 30,
   "metadata": {},
   "outputs": [],
   "source": [
    "# Definição dos modelos base de regressão\n",
    "models = {\n",
    "    'LR': LinearRegression(),\n",
    "    'DT': DecisionTreeRegressor(),\n",
    "    'RF': RandomForestRegressor(),\n",
    "    'GB': GradientBoostingRegressor(),\n",
    "    'MLP': MLPRegressor(),\n",
    "    'SVR': SVR()\n",
    "}\n",
    "\n",
    "# Definição das distribuições de parâmetros para otimização de hiperparâmetros\n",
    "param_distributions = {\n",
    "    'LR': {},  \n",
    "    'DT': {'max_depth': [None, 10, 20, 30], 'min_samples_split': [2, 10, 20]},  \n",
    "    'RF': {'n_estimators': [50, 100, 200], 'max_features': ['auto', 'sqrt'], 'max_depth': [10, 20, 30, None], 'min_samples_split': [2, 5, 10]},  \n",
    "    'GB': {'n_estimators': [50, 100, 200], 'learning_rate': [0.01, 0.1, 0.2], 'max_depth': [3, 4, 5]},  \n",
    "    'MLP': {'hidden_layer_sizes': [(50,50), (100,)], 'activation': ['relu', 'tanh'], 'solver': ['adam', 'sgd']},  \n",
    "    'SVR': {'C': [0.1, 1, 10], 'kernel': ['linear', 'rbf']}  \n",
    "}\n",
    "\n",
    "# Otimização de hiperparâmetros e treinamento dos melhores estimadores\n",
    "best_estimators = {}\n",
    "for name, model in models.items():\n",
    "    # Configuração do RandomizedSearchCV para o modelo atual\n",
    "    search = RandomizedSearchCV(model, param_distributions[name], n_iter=10, scoring='neg_mean_squared_error', cv=5, random_state=42)\n",
    "    \n",
    "    # Construção do pipeline com pré-processamento e modelo\n",
    "    pipeline = Pipeline(steps=[('preprocessor', preprocessor), (name, search)])\n",
    "    \n",
    "    # Treinamento do pipeline\n",
    "    pipeline.fit(X_train, y_train)\n",
    "    \n",
    "    # Armazenamento do melhor estimador encontrado pelo RandomizedSearchCV\n",
    "    best_estimators[name] = pipeline.named_steps[name].best_estimator_"
   ]
  },
  {
   "cell_type": "markdown",
   "metadata": {},
   "source": [
    "### Criação do Ensemble (Comitê de Modelos) Voting Regressor\n",
    "\n",
    "Com os melhores estimadores encontrados, crio um ensemble de regressão usando o **Voting Regressor**."
   ]
  },
  {
   "cell_type": "code",
   "execution_count": 79,
   "metadata": {},
   "outputs": [
    {
     "data": {
      "text/html": [
       "<style>#sk-container-id-4 {color: black;}#sk-container-id-4 pre{padding: 0;}#sk-container-id-4 div.sk-toggleable {background-color: white;}#sk-container-id-4 label.sk-toggleable__label {cursor: pointer;display: block;width: 100%;margin-bottom: 0;padding: 0.3em;box-sizing: border-box;text-align: center;}#sk-container-id-4 label.sk-toggleable__label-arrow:before {content: \"▸\";float: left;margin-right: 0.25em;color: #696969;}#sk-container-id-4 label.sk-toggleable__label-arrow:hover:before {color: black;}#sk-container-id-4 div.sk-estimator:hover label.sk-toggleable__label-arrow:before {color: black;}#sk-container-id-4 div.sk-toggleable__content {max-height: 0;max-width: 0;overflow: hidden;text-align: left;background-color: #f0f8ff;}#sk-container-id-4 div.sk-toggleable__content pre {margin: 0.2em;color: black;border-radius: 0.25em;background-color: #f0f8ff;}#sk-container-id-4 input.sk-toggleable__control:checked~div.sk-toggleable__content {max-height: 200px;max-width: 100%;overflow: auto;}#sk-container-id-4 input.sk-toggleable__control:checked~label.sk-toggleable__label-arrow:before {content: \"▾\";}#sk-container-id-4 div.sk-estimator input.sk-toggleable__control:checked~label.sk-toggleable__label {background-color: #d4ebff;}#sk-container-id-4 div.sk-label input.sk-toggleable__control:checked~label.sk-toggleable__label {background-color: #d4ebff;}#sk-container-id-4 input.sk-hidden--visually {border: 0;clip: rect(1px 1px 1px 1px);clip: rect(1px, 1px, 1px, 1px);height: 1px;margin: -1px;overflow: hidden;padding: 0;position: absolute;width: 1px;}#sk-container-id-4 div.sk-estimator {font-family: monospace;background-color: #f0f8ff;border: 1px dotted black;border-radius: 0.25em;box-sizing: border-box;margin-bottom: 0.5em;}#sk-container-id-4 div.sk-estimator:hover {background-color: #d4ebff;}#sk-container-id-4 div.sk-parallel-item::after {content: \"\";width: 100%;border-bottom: 1px solid gray;flex-grow: 1;}#sk-container-id-4 div.sk-label:hover label.sk-toggleable__label {background-color: #d4ebff;}#sk-container-id-4 div.sk-serial::before {content: \"\";position: absolute;border-left: 1px solid gray;box-sizing: border-box;top: 0;bottom: 0;left: 50%;z-index: 0;}#sk-container-id-4 div.sk-serial {display: flex;flex-direction: column;align-items: center;background-color: white;padding-right: 0.2em;padding-left: 0.2em;position: relative;}#sk-container-id-4 div.sk-item {position: relative;z-index: 1;}#sk-container-id-4 div.sk-parallel {display: flex;align-items: stretch;justify-content: center;background-color: white;position: relative;}#sk-container-id-4 div.sk-item::before, #sk-container-id-4 div.sk-parallel-item::before {content: \"\";position: absolute;border-left: 1px solid gray;box-sizing: border-box;top: 0;bottom: 0;left: 50%;z-index: -1;}#sk-container-id-4 div.sk-parallel-item {display: flex;flex-direction: column;z-index: 1;position: relative;background-color: white;}#sk-container-id-4 div.sk-parallel-item:first-child::after {align-self: flex-end;width: 50%;}#sk-container-id-4 div.sk-parallel-item:last-child::after {align-self: flex-start;width: 50%;}#sk-container-id-4 div.sk-parallel-item:only-child::after {width: 0;}#sk-container-id-4 div.sk-dashed-wrapped {border: 1px dashed gray;margin: 0 0.4em 0.5em 0.4em;box-sizing: border-box;padding-bottom: 0.4em;background-color: white;}#sk-container-id-4 div.sk-label label {font-family: monospace;font-weight: bold;display: inline-block;line-height: 1.2em;}#sk-container-id-4 div.sk-label-container {text-align: center;}#sk-container-id-4 div.sk-container {/* jupyter's `normalize.less` sets `[hidden] { display: none; }` but bootstrap.min.css set `[hidden] { display: none !important; }` so we also need the `!important` here to be able to override the default hidden behavior on the sphinx rendered scikit-learn.org. See: https://github.com/scikit-learn/scikit-learn/issues/21755 */display: inline-block !important;position: relative;}#sk-container-id-4 div.sk-text-repr-fallback {display: none;}</style><div id=\"sk-container-id-4\" class=\"sk-top-container\"><div class=\"sk-text-repr-fallback\"><pre>Pipeline(steps=[(&#x27;Pré-Processamento&#x27;,\n",
       "                 ColumnTransformer(transformers=[(&#x27;numérica&#x27;,\n",
       "                                                  Pipeline(steps=[(&#x27;imputer&#x27;,\n",
       "                                                                   SimpleImputer()),\n",
       "                                                                  (&#x27;normalização&#x27;,\n",
       "                                                                   StandardScaler())]),\n",
       "                                                  Index([&#x27;Meta_score&#x27;, &#x27;No_of_Votes&#x27;], dtype=&#x27;object&#x27;)),\n",
       "                                                 (&#x27;categórica&#x27;,\n",
       "                                                  Pipeline(steps=[(&#x27;imputer&#x27;,\n",
       "                                                                   SimpleImputer(strategy=&#x27;most_frequent&#x27;)),\n",
       "                                                                  (&#x27;onehot&#x27;,\n",
       "                                                                   OneHotEncoder(handle_unknown=&#x27;ignore&#x27;))]),\n",
       "                                                  Ind...\n",
       "                 VotingRegressor(estimators=[(&#x27;LR&#x27;, LinearRegression()),\n",
       "                                             (&#x27;DT&#x27;,\n",
       "                                              DecisionTreeRegressor(max_depth=10,\n",
       "                                                                    min_samples_split=20)),\n",
       "                                             (&#x27;RF&#x27;,\n",
       "                                              RandomForestRegressor(max_depth=30,\n",
       "                                                                    max_features=&#x27;sqrt&#x27;,\n",
       "                                                                    min_samples_split=5,\n",
       "                                                                    n_estimators=200)),\n",
       "                                             (&#x27;GB&#x27;,\n",
       "                                              GradientBoostingRegressor(max_depth=5)),\n",
       "                                             (&#x27;MLP&#x27;,\n",
       "                                              MLPRegressor(hidden_layer_sizes=(50,\n",
       "                                                                               50),\n",
       "                                                           solver=&#x27;sgd&#x27;)),\n",
       "                                             (&#x27;SVR&#x27;,\n",
       "                                              SVR(C=0.1, kernel=&#x27;linear&#x27;))]))])</pre><b>In a Jupyter environment, please rerun this cell to show the HTML representation or trust the notebook. <br />On GitHub, the HTML representation is unable to render, please try loading this page with nbviewer.org.</b></div><div class=\"sk-container\" hidden><div class=\"sk-item sk-dashed-wrapped\"><div class=\"sk-label-container\"><div class=\"sk-label sk-toggleable\"><input class=\"sk-toggleable__control sk-hidden--visually\" id=\"sk-estimator-id-46\" type=\"checkbox\" ><label for=\"sk-estimator-id-46\" class=\"sk-toggleable__label sk-toggleable__label-arrow\">Pipeline</label><div class=\"sk-toggleable__content\"><pre>Pipeline(steps=[(&#x27;Pré-Processamento&#x27;,\n",
       "                 ColumnTransformer(transformers=[(&#x27;numérica&#x27;,\n",
       "                                                  Pipeline(steps=[(&#x27;imputer&#x27;,\n",
       "                                                                   SimpleImputer()),\n",
       "                                                                  (&#x27;normalização&#x27;,\n",
       "                                                                   StandardScaler())]),\n",
       "                                                  Index([&#x27;Meta_score&#x27;, &#x27;No_of_Votes&#x27;], dtype=&#x27;object&#x27;)),\n",
       "                                                 (&#x27;categórica&#x27;,\n",
       "                                                  Pipeline(steps=[(&#x27;imputer&#x27;,\n",
       "                                                                   SimpleImputer(strategy=&#x27;most_frequent&#x27;)),\n",
       "                                                                  (&#x27;onehot&#x27;,\n",
       "                                                                   OneHotEncoder(handle_unknown=&#x27;ignore&#x27;))]),\n",
       "                                                  Ind...\n",
       "                 VotingRegressor(estimators=[(&#x27;LR&#x27;, LinearRegression()),\n",
       "                                             (&#x27;DT&#x27;,\n",
       "                                              DecisionTreeRegressor(max_depth=10,\n",
       "                                                                    min_samples_split=20)),\n",
       "                                             (&#x27;RF&#x27;,\n",
       "                                              RandomForestRegressor(max_depth=30,\n",
       "                                                                    max_features=&#x27;sqrt&#x27;,\n",
       "                                                                    min_samples_split=5,\n",
       "                                                                    n_estimators=200)),\n",
       "                                             (&#x27;GB&#x27;,\n",
       "                                              GradientBoostingRegressor(max_depth=5)),\n",
       "                                             (&#x27;MLP&#x27;,\n",
       "                                              MLPRegressor(hidden_layer_sizes=(50,\n",
       "                                                                               50),\n",
       "                                                           solver=&#x27;sgd&#x27;)),\n",
       "                                             (&#x27;SVR&#x27;,\n",
       "                                              SVR(C=0.1, kernel=&#x27;linear&#x27;))]))])</pre></div></div></div><div class=\"sk-serial\"><div class=\"sk-item sk-dashed-wrapped\"><div class=\"sk-label-container\"><div class=\"sk-label sk-toggleable\"><input class=\"sk-toggleable__control sk-hidden--visually\" id=\"sk-estimator-id-47\" type=\"checkbox\" ><label for=\"sk-estimator-id-47\" class=\"sk-toggleable__label sk-toggleable__label-arrow\">Pré-Processamento: ColumnTransformer</label><div class=\"sk-toggleable__content\"><pre>ColumnTransformer(transformers=[(&#x27;numérica&#x27;,\n",
       "                                 Pipeline(steps=[(&#x27;imputer&#x27;, SimpleImputer()),\n",
       "                                                 (&#x27;normalização&#x27;,\n",
       "                                                  StandardScaler())]),\n",
       "                                 Index([&#x27;Meta_score&#x27;, &#x27;No_of_Votes&#x27;], dtype=&#x27;object&#x27;)),\n",
       "                                (&#x27;categórica&#x27;,\n",
       "                                 Pipeline(steps=[(&#x27;imputer&#x27;,\n",
       "                                                  SimpleImputer(strategy=&#x27;most_frequent&#x27;)),\n",
       "                                                 (&#x27;onehot&#x27;,\n",
       "                                                  OneHotEncoder(handle_unknown=&#x27;ignore&#x27;))]),\n",
       "                                 Index([&#x27;Series_Title&#x27;, &#x27;Released_Year&#x27;, &#x27;Certificate&#x27;, &#x27;Runtime&#x27;, &#x27;Genre&#x27;,\n",
       "       &#x27;Overview&#x27;, &#x27;Director&#x27;, &#x27;Star1&#x27;, &#x27;Star2&#x27;, &#x27;Star3&#x27;, &#x27;Star4&#x27;, &#x27;Gross&#x27;],\n",
       "      dtype=&#x27;object&#x27;))])</pre></div></div></div><div class=\"sk-parallel\"><div class=\"sk-parallel-item\"><div class=\"sk-item\"><div class=\"sk-label-container\"><div class=\"sk-label sk-toggleable\"><input class=\"sk-toggleable__control sk-hidden--visually\" id=\"sk-estimator-id-48\" type=\"checkbox\" ><label for=\"sk-estimator-id-48\" class=\"sk-toggleable__label sk-toggleable__label-arrow\">numérica</label><div class=\"sk-toggleable__content\"><pre>Index([&#x27;Meta_score&#x27;, &#x27;No_of_Votes&#x27;], dtype=&#x27;object&#x27;)</pre></div></div></div><div class=\"sk-serial\"><div class=\"sk-item\"><div class=\"sk-serial\"><div class=\"sk-item\"><div class=\"sk-estimator sk-toggleable\"><input class=\"sk-toggleable__control sk-hidden--visually\" id=\"sk-estimator-id-49\" type=\"checkbox\" ><label for=\"sk-estimator-id-49\" class=\"sk-toggleable__label sk-toggleable__label-arrow\">SimpleImputer</label><div class=\"sk-toggleable__content\"><pre>SimpleImputer()</pre></div></div></div><div class=\"sk-item\"><div class=\"sk-estimator sk-toggleable\"><input class=\"sk-toggleable__control sk-hidden--visually\" id=\"sk-estimator-id-50\" type=\"checkbox\" ><label for=\"sk-estimator-id-50\" class=\"sk-toggleable__label sk-toggleable__label-arrow\">StandardScaler</label><div class=\"sk-toggleable__content\"><pre>StandardScaler()</pre></div></div></div></div></div></div></div></div><div class=\"sk-parallel-item\"><div class=\"sk-item\"><div class=\"sk-label-container\"><div class=\"sk-label sk-toggleable\"><input class=\"sk-toggleable__control sk-hidden--visually\" id=\"sk-estimator-id-51\" type=\"checkbox\" ><label for=\"sk-estimator-id-51\" class=\"sk-toggleable__label sk-toggleable__label-arrow\">categórica</label><div class=\"sk-toggleable__content\"><pre>Index([&#x27;Series_Title&#x27;, &#x27;Released_Year&#x27;, &#x27;Certificate&#x27;, &#x27;Runtime&#x27;, &#x27;Genre&#x27;,\n",
       "       &#x27;Overview&#x27;, &#x27;Director&#x27;, &#x27;Star1&#x27;, &#x27;Star2&#x27;, &#x27;Star3&#x27;, &#x27;Star4&#x27;, &#x27;Gross&#x27;],\n",
       "      dtype=&#x27;object&#x27;)</pre></div></div></div><div class=\"sk-serial\"><div class=\"sk-item\"><div class=\"sk-serial\"><div class=\"sk-item\"><div class=\"sk-estimator sk-toggleable\"><input class=\"sk-toggleable__control sk-hidden--visually\" id=\"sk-estimator-id-52\" type=\"checkbox\" ><label for=\"sk-estimator-id-52\" class=\"sk-toggleable__label sk-toggleable__label-arrow\">SimpleImputer</label><div class=\"sk-toggleable__content\"><pre>SimpleImputer(strategy=&#x27;most_frequent&#x27;)</pre></div></div></div><div class=\"sk-item\"><div class=\"sk-estimator sk-toggleable\"><input class=\"sk-toggleable__control sk-hidden--visually\" id=\"sk-estimator-id-53\" type=\"checkbox\" ><label for=\"sk-estimator-id-53\" class=\"sk-toggleable__label sk-toggleable__label-arrow\">OneHotEncoder</label><div class=\"sk-toggleable__content\"><pre>OneHotEncoder(handle_unknown=&#x27;ignore&#x27;)</pre></div></div></div></div></div></div></div></div></div></div><div class=\"sk-item sk-dashed-wrapped\"><div class=\"sk-label-container\"><div class=\"sk-label sk-toggleable\"><input class=\"sk-toggleable__control sk-hidden--visually\" id=\"sk-estimator-id-54\" type=\"checkbox\" ><label for=\"sk-estimator-id-54\" class=\"sk-toggleable__label sk-toggleable__label-arrow\">Ensemble Voting: VotingRegressor</label><div class=\"sk-toggleable__content\"><pre>VotingRegressor(estimators=[(&#x27;LR&#x27;, LinearRegression()),\n",
       "                            (&#x27;DT&#x27;,\n",
       "                             DecisionTreeRegressor(max_depth=10,\n",
       "                                                   min_samples_split=20)),\n",
       "                            (&#x27;RF&#x27;,\n",
       "                             RandomForestRegressor(max_depth=30,\n",
       "                                                   max_features=&#x27;sqrt&#x27;,\n",
       "                                                   min_samples_split=5,\n",
       "                                                   n_estimators=200)),\n",
       "                            (&#x27;GB&#x27;, GradientBoostingRegressor(max_depth=5)),\n",
       "                            (&#x27;MLP&#x27;,\n",
       "                             MLPRegressor(hidden_layer_sizes=(50, 50),\n",
       "                                          solver=&#x27;sgd&#x27;)),\n",
       "                            (&#x27;SVR&#x27;, SVR(C=0.1, kernel=&#x27;linear&#x27;))])</pre></div></div></div><div class=\"sk-parallel\"><div class=\"sk-parallel-item\"><div class=\"sk-item\"><div class=\"sk-label-container\"><div class=\"sk-label sk-toggleable\"><label>LR</label></div></div><div class=\"sk-serial\"><div class=\"sk-item\"><div class=\"sk-estimator sk-toggleable\"><input class=\"sk-toggleable__control sk-hidden--visually\" id=\"sk-estimator-id-55\" type=\"checkbox\" ><label for=\"sk-estimator-id-55\" class=\"sk-toggleable__label sk-toggleable__label-arrow\">LinearRegression</label><div class=\"sk-toggleable__content\"><pre>LinearRegression()</pre></div></div></div></div></div></div><div class=\"sk-parallel-item\"><div class=\"sk-item\"><div class=\"sk-label-container\"><div class=\"sk-label sk-toggleable\"><label>DT</label></div></div><div class=\"sk-serial\"><div class=\"sk-item\"><div class=\"sk-estimator sk-toggleable\"><input class=\"sk-toggleable__control sk-hidden--visually\" id=\"sk-estimator-id-56\" type=\"checkbox\" ><label for=\"sk-estimator-id-56\" class=\"sk-toggleable__label sk-toggleable__label-arrow\">DecisionTreeRegressor</label><div class=\"sk-toggleable__content\"><pre>DecisionTreeRegressor(max_depth=10, min_samples_split=20)</pre></div></div></div></div></div></div><div class=\"sk-parallel-item\"><div class=\"sk-item\"><div class=\"sk-label-container\"><div class=\"sk-label sk-toggleable\"><label>RF</label></div></div><div class=\"sk-serial\"><div class=\"sk-item\"><div class=\"sk-estimator sk-toggleable\"><input class=\"sk-toggleable__control sk-hidden--visually\" id=\"sk-estimator-id-57\" type=\"checkbox\" ><label for=\"sk-estimator-id-57\" class=\"sk-toggleable__label sk-toggleable__label-arrow\">RandomForestRegressor</label><div class=\"sk-toggleable__content\"><pre>RandomForestRegressor(max_depth=30, max_features=&#x27;sqrt&#x27;, min_samples_split=5,\n",
       "                      n_estimators=200)</pre></div></div></div></div></div></div><div class=\"sk-parallel-item\"><div class=\"sk-item\"><div class=\"sk-label-container\"><div class=\"sk-label sk-toggleable\"><label>GB</label></div></div><div class=\"sk-serial\"><div class=\"sk-item\"><div class=\"sk-estimator sk-toggleable\"><input class=\"sk-toggleable__control sk-hidden--visually\" id=\"sk-estimator-id-58\" type=\"checkbox\" ><label for=\"sk-estimator-id-58\" class=\"sk-toggleable__label sk-toggleable__label-arrow\">GradientBoostingRegressor</label><div class=\"sk-toggleable__content\"><pre>GradientBoostingRegressor(max_depth=5)</pre></div></div></div></div></div></div><div class=\"sk-parallel-item\"><div class=\"sk-item\"><div class=\"sk-label-container\"><div class=\"sk-label sk-toggleable\"><label>MLP</label></div></div><div class=\"sk-serial\"><div class=\"sk-item\"><div class=\"sk-estimator sk-toggleable\"><input class=\"sk-toggleable__control sk-hidden--visually\" id=\"sk-estimator-id-59\" type=\"checkbox\" ><label for=\"sk-estimator-id-59\" class=\"sk-toggleable__label sk-toggleable__label-arrow\">MLPRegressor</label><div class=\"sk-toggleable__content\"><pre>MLPRegressor(hidden_layer_sizes=(50, 50), solver=&#x27;sgd&#x27;)</pre></div></div></div></div></div></div><div class=\"sk-parallel-item\"><div class=\"sk-item\"><div class=\"sk-label-container\"><div class=\"sk-label sk-toggleable\"><label>SVR</label></div></div><div class=\"sk-serial\"><div class=\"sk-item\"><div class=\"sk-estimator sk-toggleable\"><input class=\"sk-toggleable__control sk-hidden--visually\" id=\"sk-estimator-id-60\" type=\"checkbox\" ><label for=\"sk-estimator-id-60\" class=\"sk-toggleable__label sk-toggleable__label-arrow\">SVR</label><div class=\"sk-toggleable__content\"><pre>SVR(C=0.1, kernel=&#x27;linear&#x27;)</pre></div></div></div></div></div></div></div></div></div></div></div></div>"
      ],
      "text/plain": [
       "Pipeline(steps=[('Pré-Processamento',\n",
       "                 ColumnTransformer(transformers=[('numérica',\n",
       "                                                  Pipeline(steps=[('imputer',\n",
       "                                                                   SimpleImputer()),\n",
       "                                                                  ('normalização',\n",
       "                                                                   StandardScaler())]),\n",
       "                                                  Index(['Meta_score', 'No_of_Votes'], dtype='object')),\n",
       "                                                 ('categórica',\n",
       "                                                  Pipeline(steps=[('imputer',\n",
       "                                                                   SimpleImputer(strategy='most_frequent')),\n",
       "                                                                  ('onehot',\n",
       "                                                                   OneHotEncoder(handle_unknown='ignore'))]),\n",
       "                                                  Ind...\n",
       "                 VotingRegressor(estimators=[('LR', LinearRegression()),\n",
       "                                             ('DT',\n",
       "                                              DecisionTreeRegressor(max_depth=10,\n",
       "                                                                    min_samples_split=20)),\n",
       "                                             ('RF',\n",
       "                                              RandomForestRegressor(max_depth=30,\n",
       "                                                                    max_features='sqrt',\n",
       "                                                                    min_samples_split=5,\n",
       "                                                                    n_estimators=200)),\n",
       "                                             ('GB',\n",
       "                                              GradientBoostingRegressor(max_depth=5)),\n",
       "                                             ('MLP',\n",
       "                                              MLPRegressor(hidden_layer_sizes=(50,\n",
       "                                                                               50),\n",
       "                                                           solver='sgd')),\n",
       "                                             ('SVR',\n",
       "                                              SVR(C=0.1, kernel='linear'))]))])"
      ]
     },
     "execution_count": 79,
     "metadata": {},
     "output_type": "execute_result"
    }
   ],
   "source": [
    "# Criar o Voting Regressor com os melhores estimadores\n",
    "voting_regressor = VotingRegressor(estimators=[\n",
    "    ('LR', best_estimators['LR']),\n",
    "    ('DT', best_estimators['DT']),\n",
    "    ('RF', best_estimators['RF']),\n",
    "    ('GB', best_estimators['GB']),\n",
    "    ('MLP', best_estimators['MLP']),\n",
    "    ('SVR', best_estimators['SVR'])\n",
    "])"
   ]
  },
  {
   "cell_type": "markdown",
   "metadata": {},
   "source": [
    "### Treinamento do Modelo Final\n",
    "\n",
    "Construo o pipeline final, que inclui o pré-processamento e o ensemble voting regressor, e realizo o treinamento do modelo."
   ]
  },
  {
   "cell_type": "code",
   "execution_count": null,
   "metadata": {},
   "outputs": [],
   "source": [
    "# Pipeline final\n",
    "final_pipeline = Pipeline(steps=[('Pré-Processamento', preprocessor), ('Ensemble Voting', voting_regressor)])\n",
    "# Fazendo o treinamento do modelo desenvolvido\n",
    "final_pipeline.fit(X_train, y_train)"
   ]
  },
  {
   "cell_type": "markdown",
   "metadata": {},
   "source": [
    "### Avaliação do Modelo\n",
    "Após isso, realizo as previsões no conjunto de teste e calculo as métricas de avaliação para entender a performance do modelo."
   ]
  },
  {
   "cell_type": "code",
   "execution_count": 93,
   "metadata": {},
   "outputs": [
    {
     "name": "stdout",
     "output_type": "stream",
     "text": [
      "MAE: 0.17\n",
      "MSE: 0.05\n",
      "RMSE: 0.21\n",
      "R^2: 0.3\n"
     ]
    }
   ],
   "source": [
    "# Realização da previsão com o modelo final e avaliação dos resultados\n",
    "\n",
    "y_pred = final_pipeline.predict(X_test)  # Realiza previsões usando o modelo finalizado no conjunto de teste que foi separado e que não sofreu interferências\n",
    "\n",
    "# Cálculo das métricas de avaliação\n",
    "mae = mean_absolute_error(y_test, y_pred)  # Calcula o erro médio absoluto\n",
    "mse = mean_squared_error(y_test, y_pred)   # Calcula o erro quadrático médio\n",
    "rmse = np.sqrt(mse)                        # Calcula a raiz do erro quadrático médio (RMSE)\n",
    "r2 = r2_score(y_test, y_pred)              # Calcula o coeficiente de determinação R^2\n",
    "\n",
    "# Apresentado os resultados\n",
    "print(f'MAE: {round(mae,2)}')\n",
    "print(f'MSE: {round(mse,2)}')\n",
    "print(f'RMSE: {round(rmse,2)}')\n",
    "print(f'R^2: {round(r2,2)}')"
   ]
  },
  {
   "cell_type": "markdown",
   "metadata": {},
   "source": [
    "### Análise das Métricas de Avaliação\n",
    "\n",
    "#### MAE (Erro Médio Absoluto)\n",
    "\n",
    "- Valor: 0.17\n",
    "- Interpretação: Em média, as previsões do modelo estão erradas por cerca de 0.17 pontos na escala de classificação do IMDb. Isso significa que, em média, a diferença entre os valores previstos e os valores reais é de aproximadamente 0.17.\n",
    "\n",
    "#### MSE (Erro Quadrático Médio)\n",
    "\n",
    "- Valor: 0.05\n",
    "- Interpretação: O MSE penaliza erros maiores de forma mais severa, já que os erros são elevados ao quadrado antes de serem somados. Um MSE de 0.05 sugere que os erros do modelo, em média, são baixos, mas é mais difícil de interpretar diretamente em comparação com o MAE.\n",
    "\n",
    "#### RMSE (Raiz do Erro Quadrático Médio)\n",
    "\n",
    "- Valor: 0.2143\n",
    "- Interpretação: A RMSE é a raiz quadrada do MSE e é mais interpretável, pois está na mesma escala que as variáveis alvo (IMDb ratings). Um RMSE de 0.2143 indica que, em média, as previsões do modelo estão a cerca de 0.21 pontos de distância dos valores reais do IMDb.\n",
    "\n",
    "#### R² (Coeficiente de Determinação)\n",
    "\n",
    "- Valor: 0.3002\n",
    "- Interpretação: O valor de R² indica a proporção da variância nos dados alvo que é explicada pelo modelo. Um R² de 0.30 significa que aproximadamente 30% da variabilidade nos ratings do IMDb pode ser explicada pelas features incluídas no modelo.\n",
    "\n",
    "#### Conclusão\n",
    "Sendo assim, o modelo que construí possui poder preditivo, mas possui espaço para melhoria sim!"
   ]
  },
  {
   "cell_type": "markdown",
   "metadata": {},
   "source": [
    "### Salvando o modelo desenvolvido em formato .pkl "
   ]
  },
  {
   "cell_type": "code",
   "execution_count": 81,
   "metadata": {},
   "outputs": [
    {
     "data": {
      "text/plain": [
       "['avaliacao_imdb_model.pkl']"
      ]
     },
     "execution_count": 81,
     "metadata": {},
     "output_type": "execute_result"
    }
   ],
   "source": [
    "# Salvando o modelo\n",
    "joblib.dump(final_pipeline, 'avaliacao_imdb_model.pkl')"
   ]
  },
  {
   "cell_type": "markdown",
   "metadata": {},
   "source": [
    "### Predição da avaliação IMDb do filme 'The Shawshank Redemption'"
   ]
  },
  {
   "cell_type": "code",
   "execution_count": 82,
   "metadata": {},
   "outputs": [],
   "source": [
    "# Carregando o modelo salvo para fazer a predição de avaliação do filme\n",
    "modelo_predicao = joblib.load('avaliacao_imdb_model.pkl')"
   ]
  },
  {
   "cell_type": "code",
   "execution_count": 92,
   "metadata": {},
   "outputs": [
    {
     "name": "stdout",
     "output_type": "stream",
     "text": [
      "====> A nota de avaliação IMDb do filme The Shawshank Redemption, foi: 8.79! <====\n"
     ]
    }
   ],
   "source": [
    "# Características do novo filme\n",
    "novo_filme = {\n",
    "    'Series_Title': 'The Shawshank Redemption',\n",
    "    'Released_Year': '1994',\n",
    "    'Certificate': 'A',\n",
    "    'Runtime': '142 min',\n",
    "    'Genre': 'Drama',\n",
    "    'Overview': 'Two imprisoned men bond over a number of years, finding solace and eventual redemption through acts of common decency.',\n",
    "    'Meta_score': 80.0,\n",
    "    'Director': 'Frank Darabont',\n",
    "    'Star1': 'Tim Robbins',\n",
    "    'Star2': 'Morgan Freeman',\n",
    "    'Star3': 'Bob Gunton',\n",
    "    'Star4': 'William Sadler',\n",
    "    'No_of_Votes': 2343110,\n",
    "    'Gross': '28,341,469'\n",
    "}\n",
    "\n",
    "# Criar um DataFrame com as características do novo filme\n",
    "novo_filme_df = pd.DataFrame([novo_filme])\n",
    "\n",
    "# Fazer a previsão\n",
    "predicted_imdb_score = modelo_predicao.predict(novo_filme_df)\n",
    "\n",
    "print(f'====> A nota de avaliação IMDb do filme The Shawshank Redemption, foi: {round(predicted_imdb_score[0],2)}! <====')"
   ]
  },
  {
   "cell_type": "markdown",
   "metadata": {},
   "source": [
    "## Resoluções e Análises Conclusivas\n",
    "\n",
    "### Variáveis Utilizadas e suas Transformações:\n",
    "- Variáveis Numéricas: Foram normalizadas para garantir que todas as variáveis estejam na mesma escala, o que é especialmente importante para modelos de machine learning que utilizam métricas de distância (e.g., SVM).\n",
    "\n",
    "- Variáveis Categóricas: Foram codificadas usando one-hot encoding para converter categorias em uma forma que os algoritmos de machine learning podem utilizar.\n",
    "\n",
    "### Tipo de Problema:\n",
    "Estou resolvendo um problema de **Regressão**, onde o objetivo é prever a nota do IMDb, que é uma variável contínua.\n",
    "\n",
    "### Modelo que Melhor se Aproxima dos Dados:\n",
    "Apliquei um **Ensemble Voting Regressor** composto pelos melhores estimadores de vários modelos utilizando a técnica de otimização do random search. \n",
    "\n",
    "##### Acho importante trazer também uma **introdução** sobre o modelo que escolhi e apliquei para um melhor entendimento:\n",
    "\n",
    "O Voting Regressor é uma técnica de ensemble learning usada para melhorar a precisão e a robustez dos modelos preditivos. Em essência, o Voting Regressor combina previsões de múltiplos modelos de regressão individuais (também chamados de \"estimadores base\") para fazer uma previsão final. O conceito central por trás do Voting Regressor é que diferentes modelos podem capturar diferentes padrões nos dados e, ao combinar suas previsões, podemos obter uma predição mais precisa e estável do que qualquer modelo individual.\n",
    "\n",
    "**Vantagens do Voting Regressor:**\n",
    "- Robustez: Ao combinar múltiplos modelos, o Voting Regressor tende a ser mais robusto contra outliers e variações nos dados.\n",
    "- Redução de Overfitting: Modelos individuais podem superajustar os dados de treinamento, mas a combinação de modelos pode ajudar a suavizar as previsões e reduzir o risco de overfitting.\n",
    "- Melhora na Precisão: A agregação das previsões de diferentes modelos frequentemente resulta em uma melhora na precisão geral das previsões.\n",
    "- Flexibilidade: Podemos combinar qualquer conjunto de modelos de regressão, incluindo modelos lineares, árvores de decisão, redes neurais, etc.\n",
    "\n",
    "**Além disso, trago uma pequena introdução também sobre a técnica de otimização de hiperparâmetros random search:**\n",
    "\n",
    "- O Randomized Search é uma técnica de otimização de hiperparâmetros usada para melhorar a performance de modelos de aprendizado de máquina. Hiperparâmetros são parâmetros cujos valores são definidos antes do treinamento do modelo e podem impactar significativamente sua performance. O Randomized Search ajuda a encontrar a combinação ideal desses hiperparâmetros de forma eficiente.\n",
    "\n",
    "### Medidas de Performance Escolhidas e Por Quê:\n",
    "\n",
    "- MAE (Erro Médio Absoluto): Fácil de interpretar, mostra o erro médio das previsões em unidades da variável alvo.\n",
    "- MSE (Erro Quadrático Médio): Penaliza erros maiores mais severamente, útil para identificar grandes discrepâncias.\n",
    "- RMSE (Raiz do Erro Quadrático Médio): Fácil de interpretar (na mesma escala que a variável alvo) e útil para identificar a magnitude dos erros.\n",
    "- R² (Coeficiente de Determinação): Indica a proporção da variabilidade dos dados que é explicada pelo modelo, fornecendo uma medida de quão bem o modelo está capturando a variância nos dados.\n",
    "\n",
    "Logo, essas métricas foram escolhidas para fornecer uma visão abrangente da performance do modelo, considerando tanto a magnitude dos erros quanto a capacidade do modelo de explicar a variância nos dados."
   ]
  },
  {
   "cell_type": "markdown",
   "metadata": {},
   "source": []
  }
 ],
 "metadata": {
  "kernelspec": {
   "display_name": "Python 3",
   "language": "python",
   "name": "python3"
  },
  "language_info": {
   "codemirror_mode": {
    "name": "ipython",
    "version": 3
   },
   "file_extension": ".py",
   "mimetype": "text/x-python",
   "name": "python",
   "nbconvert_exporter": "python",
   "pygments_lexer": "ipython3",
   "version": "3.11.4"
  }
 },
 "nbformat": 4,
 "nbformat_minor": 2
}
